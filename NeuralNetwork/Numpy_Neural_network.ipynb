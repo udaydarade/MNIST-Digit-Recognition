{
 "cells": [
  {
   "cell_type": "code",
   "execution_count": 1,
   "id": "835aaf99",
   "metadata": {
    "_cell_guid": "b1076dfc-b9ad-4769-8c92-a6c4dae69d19",
    "_uuid": "8f2839f25d086af736a60e9eeb907d3b93b6e0e5",
    "editable": false,
    "execution": {
     "iopub.execute_input": "2024-05-23T18:12:32.533971Z",
     "iopub.status.busy": "2024-05-23T18:12:32.532699Z",
     "iopub.status.idle": "2024-05-23T18:12:37.177613Z",
     "shell.execute_reply": "2024-05-23T18:12:37.176198Z"
    },
    "papermill": {
     "duration": 4.653725,
     "end_time": "2024-05-23T18:12:37.180700",
     "exception": false,
     "start_time": "2024-05-23T18:12:32.526975",
     "status": "completed"
    },
    "tags": []
   },
   "outputs": [],
   "source": [
    "import numpy as np\n",
    "import pandas as pd\n",
    "from matplotlib import pyplot as plt\n",
    "\n",
    "data = pd.read_csv('/kaggle/input/digit-recognizer/train.csv')"
   ]
  },
  {
   "cell_type": "code",
   "execution_count": 2,
   "id": "dc8fd249",
   "metadata": {
    "editable": false,
    "execution": {
     "iopub.execute_input": "2024-05-23T18:12:37.188824Z",
     "iopub.status.busy": "2024-05-23T18:12:37.188412Z",
     "iopub.status.idle": "2024-05-23T18:12:37.220629Z",
     "shell.execute_reply": "2024-05-23T18:12:37.218676Z"
    },
    "papermill": {
     "duration": 0.039537,
     "end_time": "2024-05-23T18:12:37.223549",
     "exception": false,
     "start_time": "2024-05-23T18:12:37.184012",
     "status": "completed"
    },
    "tags": []
   },
   "outputs": [
    {
     "data": {
      "text/html": [
       "<div>\n",
       "<style scoped>\n",
       "    .dataframe tbody tr th:only-of-type {\n",
       "        vertical-align: middle;\n",
       "    }\n",
       "\n",
       "    .dataframe tbody tr th {\n",
       "        vertical-align: top;\n",
       "    }\n",
       "\n",
       "    .dataframe thead th {\n",
       "        text-align: right;\n",
       "    }\n",
       "</style>\n",
       "<table border=\"1\" class=\"dataframe\">\n",
       "  <thead>\n",
       "    <tr style=\"text-align: right;\">\n",
       "      <th></th>\n",
       "      <th>label</th>\n",
       "      <th>pixel0</th>\n",
       "      <th>pixel1</th>\n",
       "      <th>pixel2</th>\n",
       "      <th>pixel3</th>\n",
       "      <th>pixel4</th>\n",
       "      <th>pixel5</th>\n",
       "      <th>pixel6</th>\n",
       "      <th>pixel7</th>\n",
       "      <th>pixel8</th>\n",
       "      <th>...</th>\n",
       "      <th>pixel774</th>\n",
       "      <th>pixel775</th>\n",
       "      <th>pixel776</th>\n",
       "      <th>pixel777</th>\n",
       "      <th>pixel778</th>\n",
       "      <th>pixel779</th>\n",
       "      <th>pixel780</th>\n",
       "      <th>pixel781</th>\n",
       "      <th>pixel782</th>\n",
       "      <th>pixel783</th>\n",
       "    </tr>\n",
       "  </thead>\n",
       "  <tbody>\n",
       "    <tr>\n",
       "      <th>0</th>\n",
       "      <td>1</td>\n",
       "      <td>0</td>\n",
       "      <td>0</td>\n",
       "      <td>0</td>\n",
       "      <td>0</td>\n",
       "      <td>0</td>\n",
       "      <td>0</td>\n",
       "      <td>0</td>\n",
       "      <td>0</td>\n",
       "      <td>0</td>\n",
       "      <td>...</td>\n",
       "      <td>0</td>\n",
       "      <td>0</td>\n",
       "      <td>0</td>\n",
       "      <td>0</td>\n",
       "      <td>0</td>\n",
       "      <td>0</td>\n",
       "      <td>0</td>\n",
       "      <td>0</td>\n",
       "      <td>0</td>\n",
       "      <td>0</td>\n",
       "    </tr>\n",
       "    <tr>\n",
       "      <th>1</th>\n",
       "      <td>0</td>\n",
       "      <td>0</td>\n",
       "      <td>0</td>\n",
       "      <td>0</td>\n",
       "      <td>0</td>\n",
       "      <td>0</td>\n",
       "      <td>0</td>\n",
       "      <td>0</td>\n",
       "      <td>0</td>\n",
       "      <td>0</td>\n",
       "      <td>...</td>\n",
       "      <td>0</td>\n",
       "      <td>0</td>\n",
       "      <td>0</td>\n",
       "      <td>0</td>\n",
       "      <td>0</td>\n",
       "      <td>0</td>\n",
       "      <td>0</td>\n",
       "      <td>0</td>\n",
       "      <td>0</td>\n",
       "      <td>0</td>\n",
       "    </tr>\n",
       "    <tr>\n",
       "      <th>2</th>\n",
       "      <td>1</td>\n",
       "      <td>0</td>\n",
       "      <td>0</td>\n",
       "      <td>0</td>\n",
       "      <td>0</td>\n",
       "      <td>0</td>\n",
       "      <td>0</td>\n",
       "      <td>0</td>\n",
       "      <td>0</td>\n",
       "      <td>0</td>\n",
       "      <td>...</td>\n",
       "      <td>0</td>\n",
       "      <td>0</td>\n",
       "      <td>0</td>\n",
       "      <td>0</td>\n",
       "      <td>0</td>\n",
       "      <td>0</td>\n",
       "      <td>0</td>\n",
       "      <td>0</td>\n",
       "      <td>0</td>\n",
       "      <td>0</td>\n",
       "    </tr>\n",
       "    <tr>\n",
       "      <th>3</th>\n",
       "      <td>4</td>\n",
       "      <td>0</td>\n",
       "      <td>0</td>\n",
       "      <td>0</td>\n",
       "      <td>0</td>\n",
       "      <td>0</td>\n",
       "      <td>0</td>\n",
       "      <td>0</td>\n",
       "      <td>0</td>\n",
       "      <td>0</td>\n",
       "      <td>...</td>\n",
       "      <td>0</td>\n",
       "      <td>0</td>\n",
       "      <td>0</td>\n",
       "      <td>0</td>\n",
       "      <td>0</td>\n",
       "      <td>0</td>\n",
       "      <td>0</td>\n",
       "      <td>0</td>\n",
       "      <td>0</td>\n",
       "      <td>0</td>\n",
       "    </tr>\n",
       "    <tr>\n",
       "      <th>4</th>\n",
       "      <td>0</td>\n",
       "      <td>0</td>\n",
       "      <td>0</td>\n",
       "      <td>0</td>\n",
       "      <td>0</td>\n",
       "      <td>0</td>\n",
       "      <td>0</td>\n",
       "      <td>0</td>\n",
       "      <td>0</td>\n",
       "      <td>0</td>\n",
       "      <td>...</td>\n",
       "      <td>0</td>\n",
       "      <td>0</td>\n",
       "      <td>0</td>\n",
       "      <td>0</td>\n",
       "      <td>0</td>\n",
       "      <td>0</td>\n",
       "      <td>0</td>\n",
       "      <td>0</td>\n",
       "      <td>0</td>\n",
       "      <td>0</td>\n",
       "    </tr>\n",
       "  </tbody>\n",
       "</table>\n",
       "<p>5 rows × 785 columns</p>\n",
       "</div>"
      ],
      "text/plain": [
       "   label  pixel0  pixel1  pixel2  pixel3  pixel4  pixel5  pixel6  pixel7  \\\n",
       "0      1       0       0       0       0       0       0       0       0   \n",
       "1      0       0       0       0       0       0       0       0       0   \n",
       "2      1       0       0       0       0       0       0       0       0   \n",
       "3      4       0       0       0       0       0       0       0       0   \n",
       "4      0       0       0       0       0       0       0       0       0   \n",
       "\n",
       "   pixel8  ...  pixel774  pixel775  pixel776  pixel777  pixel778  pixel779  \\\n",
       "0       0  ...         0         0         0         0         0         0   \n",
       "1       0  ...         0         0         0         0         0         0   \n",
       "2       0  ...         0         0         0         0         0         0   \n",
       "3       0  ...         0         0         0         0         0         0   \n",
       "4       0  ...         0         0         0         0         0         0   \n",
       "\n",
       "   pixel780  pixel781  pixel782  pixel783  \n",
       "0         0         0         0         0  \n",
       "1         0         0         0         0  \n",
       "2         0         0         0         0  \n",
       "3         0         0         0         0  \n",
       "4         0         0         0         0  \n",
       "\n",
       "[5 rows x 785 columns]"
      ]
     },
     "execution_count": 2,
     "metadata": {},
     "output_type": "execute_result"
    }
   ],
   "source": [
    "data.head()"
   ]
  },
  {
   "cell_type": "code",
   "execution_count": 3,
   "id": "0a0af20a",
   "metadata": {
    "editable": false,
    "execution": {
     "iopub.execute_input": "2024-05-23T18:12:37.231892Z",
     "iopub.status.busy": "2024-05-23T18:12:37.231511Z",
     "iopub.status.idle": "2024-05-23T18:12:38.138584Z",
     "shell.execute_reply": "2024-05-23T18:12:38.137346Z"
    },
    "papermill": {
     "duration": 0.915126,
     "end_time": "2024-05-23T18:12:38.142027",
     "exception": false,
     "start_time": "2024-05-23T18:12:37.226901",
     "status": "completed"
    },
    "tags": []
   },
   "outputs": [],
   "source": [
    "data = np.array(data)\n",
    "m,n = data.shape\n",
    "# m is the amount of examples we have and n is the number of labels - 1 (exclude the first one)\n",
    "np.random.shuffle(data)\n",
    "\n",
    "data_dev = data[0:1000].T\n",
    "# we wanted our data as transpose matrix of the original in mathematical model\n",
    "\n",
    "Y_dev = data_dev[0]\n",
    "X_dev = data_dev[1:n]\n",
    "\n",
    "#  edits\n",
    "X_dev = X_dev / 255.\n",
    "\n",
    "data_train = data[1000:m].T\n",
    "Y_train = data_train[0]\n",
    "X_train = data_train[1:n]\n",
    "X_train = X_train / 255."
   ]
  },
  {
   "cell_type": "code",
   "execution_count": 4,
   "id": "d78b53ad",
   "metadata": {
    "editable": false,
    "execution": {
     "iopub.execute_input": "2024-05-23T18:12:38.152063Z",
     "iopub.status.busy": "2024-05-23T18:12:38.151599Z",
     "iopub.status.idle": "2024-05-23T18:12:38.158330Z",
     "shell.execute_reply": "2024-05-23T18:12:38.157197Z"
    },
    "papermill": {
     "duration": 0.014177,
     "end_time": "2024-05-23T18:12:38.160841",
     "exception": false,
     "start_time": "2024-05-23T18:12:38.146664",
     "status": "completed"
    },
    "tags": []
   },
   "outputs": [
    {
     "data": {
      "text/plain": [
       "(784, 1000)"
      ]
     },
     "execution_count": 4,
     "metadata": {},
     "output_type": "execute_result"
    }
   ],
   "source": [
    "X_dev.shape"
   ]
  },
  {
   "cell_type": "code",
   "execution_count": 5,
   "id": "832927d6",
   "metadata": {
    "editable": false,
    "execution": {
     "iopub.execute_input": "2024-05-23T18:12:38.169708Z",
     "iopub.status.busy": "2024-05-23T18:12:38.169343Z",
     "iopub.status.idle": "2024-05-23T18:12:38.185348Z",
     "shell.execute_reply": "2024-05-23T18:12:38.183821Z"
    },
    "papermill": {
     "duration": 0.023868,
     "end_time": "2024-05-23T18:12:38.188248",
     "exception": false,
     "start_time": "2024-05-23T18:12:38.164380",
     "status": "completed"
    },
    "tags": []
   },
   "outputs": [],
   "source": [
    "#  now the first thing to do is to initialize the parameters\n",
    "#     to get values in between -0.5 to 0.5\n",
    "def init_params():\n",
    "    w1 = np.random.randn(10,784) - 0.5\n",
    "    w2 = np.random.randn(10,10) - 0.5\n",
    "    b1 = np.random.randn(10,1) - 0.5\n",
    "    b2 = np.random.randn(10,1) - 0.5\n",
    "    return w1,w2,b1,b2\n",
    "\n",
    "def ReLU(x):\n",
    "    return np.maximum(0,x)\n",
    "# this will return elementwise ReLU function for this input\n",
    "\n",
    "def softmax(x):\n",
    "    a = np.exp(x)/ sum(np.exp(x))\n",
    "    return a\n",
    "\n",
    "def forward_prop(w1,w2,b1,b2,X):\n",
    "    z1 = w1.dot(X) + b1\n",
    "    a1 = ReLU(z1)\n",
    "    z2 = w2.dot(a1) + b2\n",
    "    a2 = softmax(z2)\n",
    "    return z1,a1,z2,a2\n",
    "    \n",
    "def one_hot(Y):\n",
    "    onehoty = np.zeros((Y.size,Y.max()+1))\n",
    "    onehoty[np.arange(Y.size),Y] =1\n",
    "    onehoty = onehoty.T\n",
    "    return onehoty\n",
    "\n",
    "def deriv_ReLU(z):\n",
    "    return z>0\n",
    "\n",
    "# now start with the new variables\n",
    "def back_prop(z1,a1,z2,a2,w2,x,y):\n",
    "    onehoty = one_hot(y)\n",
    "    dz2 = a2 - onehoty\n",
    "    dw2 = (1/m) * dz2.dot(a1.T)\n",
    "    db2 = 1/m * np.sum(dz2)\n",
    "    dz1 = w2.T.dot(dz2)*deriv_ReLU(z1)\n",
    "    dw1 = 1/m * dz1.dot(x.T)\n",
    "    db1 = 1/m * np.sum(dz1)\n",
    "    return dw1,db1,dw2,db2\n",
    "\n",
    "def update_params(w1,w2,b1,b2,dw1,db1,dw2,db2,alpha):\n",
    "    w1 = w1 -alpha*dw1\n",
    "    b1 = b1 - alpha*db1\n",
    "    w2 = w2 - alpha*dw2\n",
    "    b2 = b2 - alpha*db2\n",
    "    return w1,b1,w2,b2\n",
    "\n",
    "def get_predictions(a2):\n",
    "    return np.argmax(a2,0)\n",
    "def get_accuracy(predictions,y):\n",
    "    print(predictions,y)\n",
    "    return np.sum(predictions == y)/ y.size"
   ]
  },
  {
   "cell_type": "code",
   "execution_count": 6,
   "id": "019250a2",
   "metadata": {
    "editable": false,
    "execution": {
     "iopub.execute_input": "2024-05-23T18:12:38.196676Z",
     "iopub.status.busy": "2024-05-23T18:12:38.196297Z",
     "iopub.status.idle": "2024-05-23T18:12:38.203986Z",
     "shell.execute_reply": "2024-05-23T18:12:38.202755Z"
    },
    "papermill": {
     "duration": 0.015202,
     "end_time": "2024-05-23T18:12:38.206861",
     "exception": false,
     "start_time": "2024-05-23T18:12:38.191659",
     "status": "completed"
    },
    "tags": []
   },
   "outputs": [],
   "source": [
    "def gradient_descent(x,y,iterations,alpha):\n",
    "    w1,w2,b1,b2 = init_params()\n",
    "    for i in range(iterations):\n",
    "        z1,a1,z2,a2 = forward_prop(w1,w2,b1,b2,x)\n",
    "        dw1 ,db1,dw2,db2 = back_prop(z1,a1,z2,a2,w2,x,y)\n",
    "        w1,b1,w2,b2 = update_params(w1,w2,b1,b2,dw1,db1,dw2,db2,alpha)\n",
    "        if i%50 == 0:\n",
    "            print(\"iteration: \" , i)\n",
    "            print(\"Accuracy: \", get_accuracy(get_predictions(a2),y))\n",
    "    return w1,b1,w2,b2"
   ]
  },
  {
   "cell_type": "code",
   "execution_count": 7,
   "id": "d4e76300",
   "metadata": {
    "editable": false,
    "execution": {
     "iopub.execute_input": "2024-05-23T18:12:38.216443Z",
     "iopub.status.busy": "2024-05-23T18:12:38.216055Z",
     "iopub.status.idle": "2024-05-23T18:12:49.792773Z",
     "shell.execute_reply": "2024-05-23T18:12:49.791439Z"
    },
    "papermill": {
     "duration": 11.587037,
     "end_time": "2024-05-23T18:12:49.797533",
     "exception": false,
     "start_time": "2024-05-23T18:12:38.210496",
     "status": "completed"
    },
    "tags": []
   },
   "outputs": [
    {
     "name": "stdout",
     "output_type": "stream",
     "text": [
      "iteration:  0\n",
      "[0 0 0 ... 0 0 0] [0 1 1 ... 8 5 8]\n",
      "Accuracy:  0.0981219512195122\n",
      "iteration:  50\n",
      "[0 0 0 ... 0 0 0] [0 1 1 ... 8 5 8]\n",
      "Accuracy:  0.0981219512195122\n"
     ]
    }
   ],
   "source": [
    "w1,b1,w2,b2 = gradient_descent(X_train,Y_train,100,0.1)"
   ]
  },
  {
   "cell_type": "code",
   "execution_count": null,
   "id": "846e985f",
   "metadata": {
    "editable": false,
    "papermill": {
     "duration": 0.0057,
     "end_time": "2024-05-23T18:12:49.809327",
     "exception": false,
     "start_time": "2024-05-23T18:12:49.803627",
     "status": "completed"
    },
    "tags": []
   },
   "outputs": [],
   "source": []
  }
 ],
 "metadata": {
  "kaggle": {
   "accelerator": "none",
   "dataSources": [
    {
     "databundleVersionId": 861823,
     "sourceId": 3004,
     "sourceType": "competition"
    }
   ],
   "dockerImageVersionId": 30698,
   "isGpuEnabled": false,
   "isInternetEnabled": false,
   "language": "python",
   "sourceType": "notebook"
  },
  "kernelspec": {
   "display_name": "Python 3",
   "language": "python",
   "name": "python3"
  },
  "language_info": {
   "codemirror_mode": {
    "name": "ipython",
    "version": 3
   },
   "file_extension": ".py",
   "mimetype": "text/x-python",
   "name": "python",
   "nbconvert_exporter": "python",
   "pygments_lexer": "ipython3",
   "version": "3.10.13"
  },
  "papermill": {
   "default_parameters": {},
   "duration": 20.900816,
   "end_time": "2024-05-23T18:12:50.350805",
   "environment_variables": {},
   "exception": null,
   "input_path": "__notebook__.ipynb",
   "output_path": "__notebook__.ipynb",
   "parameters": {},
   "start_time": "2024-05-23T18:12:29.449989",
   "version": "2.5.0"
  }
 },
 "nbformat": 4,
 "nbformat_minor": 5
}
